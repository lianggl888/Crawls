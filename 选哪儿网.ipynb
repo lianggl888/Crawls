{
 "cells": [
  {
   "cell_type": "code",
   "execution_count": 1,
   "metadata": {},
   "outputs": [],
   "source": [
    "from selenium import webdriver\n",
    "from lxml import etree\n",
    "import time\n",
    "import re\n",
    "from selenium.webdriver.chrome.options import Options\n",
    "import requests\n",
    "from selenium.webdriver.common.by import By  \n",
    "from selenium.webdriver.support.ui import WebDriverWait  \n",
    "from selenium.webdriver.support import expected_conditions as EC  \n",
    "import pandas as pd\n",
    "from datetime import datetime\n",
    "import os\n",
    "import json"
   ]
  },
  {
   "cell_type": "code",
   "execution_count": 40,
   "metadata": {},
   "outputs": [],
   "source": [
    "# chromedriver的绝对路径\n",
    "driver_path = r'C:\\Users\\ZHOU-JC\\Desktop\\chromedriver.exe'\n",
    "#设置无头 \n",
    "# chrome_options = Options()\n",
    "# chrome_options.add_argument('--headless')\n",
    "# driver = webdriver.Chrome(executable_path=driver_path, options=chrome_options)\n",
    "chrome_options = Options()\n",
    "# chrome_options.add_argument(\"disable-web-security\")\n",
    "\n",
    "# 初始化一个driver，并且指定chromedriver的路径\n",
    "driver = webdriver.Chrome(executable_path=driver_path, options =chrome_options)\n",
    "\n",
    "try:\n",
    "    driver.get(\"https://www.xuannaer.com/zj-huzhou/zhaopaigua/lt1\")\n",
    "except:\n",
    "    # 当页面加载时间超过设定时间，通过js来stop，即可执行后续动作\n",
    "    driver.execute_script(\"window.stop()\")\n",
    "# 请求网页"
   ]
  },
  {
   "cell_type": "code",
   "execution_count": 41,
   "metadata": {},
   "outputs": [],
   "source": [
    "clickTags = driver.find_elements_by_xpath(\"//ul[@class='list']/li/div/p/a\")\n"
   ]
  },
  {
   "cell_type": "code",
   "execution_count": 42,
   "metadata": {},
   "outputs": [
    {
     "name": "stderr",
     "output_type": "stream",
     "text": [
      "D:\\software\\Anaconda3\\lib\\site-packages\\ipykernel_launcher.py:1: DeprecationWarning: use driver.switch_to.window instead\n",
      "  \"\"\"Entry point for launching an IPython kernel.\n"
     ]
    },
    {
     "ename": "IndexError",
     "evalue": "list index out of range",
     "output_type": "error",
     "traceback": [
      "\u001b[1;31m---------------------------------------------------------------------------\u001b[0m",
      "\u001b[1;31mIndexError\u001b[0m                                Traceback (most recent call last)",
      "\u001b[1;32m<ipython-input-42-4877873f1600>\u001b[0m in \u001b[0;36m<module>\u001b[1;34m\u001b[0m\n\u001b[0;32m      2\u001b[0m \u001b[1;32mfor\u001b[0m \u001b[0mclickTag\u001b[0m \u001b[1;32min\u001b[0m \u001b[0mclickTags\u001b[0m\u001b[1;33m[\u001b[0m\u001b[1;36m13\u001b[0m\u001b[1;33m:\u001b[0m\u001b[1;36m14\u001b[0m\u001b[1;33m]\u001b[0m\u001b[1;33m:\u001b[0m\u001b[1;33m\u001b[0m\u001b[1;33m\u001b[0m\u001b[0m\n\u001b[0;32m      3\u001b[0m     \u001b[0mclickTag\u001b[0m\u001b[1;33m.\u001b[0m\u001b[0mclick\u001b[0m\u001b[1;33m(\u001b[0m\u001b[1;33m)\u001b[0m\u001b[1;33m\u001b[0m\u001b[1;33m\u001b[0m\u001b[0m\n\u001b[1;32m----> 4\u001b[1;33m     \u001b[0mdriver\u001b[0m\u001b[1;33m.\u001b[0m\u001b[0mswitch_to_window\u001b[0m\u001b[1;33m(\u001b[0m\u001b[0mdriver\u001b[0m\u001b[1;33m.\u001b[0m\u001b[0mwindow_handles\u001b[0m\u001b[1;33m[\u001b[0m\u001b[1;36m1\u001b[0m\u001b[1;33m]\u001b[0m\u001b[1;33m)\u001b[0m\u001b[1;33m\u001b[0m\u001b[1;33m\u001b[0m\u001b[0m\n\u001b[0m\u001b[0;32m      5\u001b[0m     \u001b[1;32mtry\u001b[0m\u001b[1;33m:\u001b[0m\u001b[1;33m\u001b[0m\u001b[1;33m\u001b[0m\u001b[0m\n\u001b[0;32m      6\u001b[0m         \u001b[0mSee_all_info_click\u001b[0m \u001b[1;33m=\u001b[0m \u001b[0mdriver\u001b[0m\u001b[1;33m.\u001b[0m\u001b[0mfind_element_by_xpath\u001b[0m\u001b[1;33m(\u001b[0m\u001b[1;34m\"//div[@class='see-all-info']\"\u001b[0m\u001b[1;33m)\u001b[0m\u001b[1;33m\u001b[0m\u001b[1;33m\u001b[0m\u001b[0m\n",
      "\u001b[1;31mIndexError\u001b[0m: list index out of range"
     ]
    }
   ],
   "source": [
    "driver.switch_to_window(driver.window_handles[0])\n",
    "for clickTag in clickTags[13:14]:\n",
    "    clickTag.click()\n",
    "    driver.switch_to_window(driver.window_handles[1])\n",
    "    try:\n",
    "        See_all_info_click = driver.find_element_by_xpath(\"//div[@class='see-all-info']\")\n",
    "        See_all_info_click.click()\n",
    "    except:\n",
    "        pass \n",
    "    source = driver.page_source\n",
    "#     item = parse_detail(source)"
   ]
  },
  {
   "cell_type": "code",
   "execution_count": null,
   "metadata": {},
   "outputs": [],
   "source": [
    "def parse_detail(source):\n",
    "    item = {}\n",
    "    html = etree.HTML(source)\n",
    "    item['标题'] = html.xpath(\"//h1[@class='title']/text()\").get()\n",
    "    item['出让形式'] = html.xpath(\"//ul[@class='info-box']/li[2]/p/t/text()\").get()\n",
    "    item['总面积'] = html.xpath(\"//ul[@class='info-box']/li[3]/p/t/text()\").get()\n",
    "    item['规划用途'] = html.xpath(\"//ul[@class='info-box']/li[4]/p/t/text()\").get()   \n",
    "    \n",
    "#     基础信息\n",
    "    div1 = html.xpath(\"//div[@class='base-info']/div[@class='base-item']\") \n",
    "    item[' 所在地区'] = div1[0].xpath(\"./div[1]/span[2]/text()\").get()\n",
    "    item['建设用地面积'] = div1[0].xpath(\"./div[2]/span[2]/span[1]/text()\").get()\n",
    "#     item['规划建设面积'] = div[2]"
   ]
  },
  {
   "cell_type": "code",
   "execution_count": 47,
   "metadata": {},
   "outputs": [
    {
     "name": "stderr",
     "output_type": "stream",
     "text": [
      "D:\\software\\Anaconda3\\lib\\site-packages\\ipykernel_launcher.py:1: DeprecationWarning: use driver.switch_to.window instead\n",
      "  \"\"\"Entry point for launching an IPython kernel.\n"
     ]
    }
   ],
   "source": [
    "driver.switch_to_window(driver.window_handles[1])\n",
    "# See_all_info_click = driver.find_element_by_xpath(\"//div[@class='see-all-info']\")\n",
    "# See_all_info_click.click()\n",
    "source = driver.page_source"
   ]
  },
  {
   "cell_type": "code",
   "execution_count": 48,
   "metadata": {},
   "outputs": [],
   "source": [
    "item = {}\n",
    "html = etree.HTML(source)\n",
    "item['标题'] = html.xpath(\"//h1[@class='title']/text()\")\n",
    "item['出让形式'] = html.xpath(\"//ul[@class='info-box']/li[2]/p/t/text()\")\n",
    "item['总面积'] = html.xpath(\"//ul[@class='info-box']/li[3]/p/t/text()\")\n",
    "item['规划用途'] = html.xpath(\"//ul[@class='info-box']/li[4]/p/t/text()\")"
   ]
  },
  {
   "cell_type": "code",
   "execution_count": 49,
   "metadata": {},
   "outputs": [
    {
     "data": {
      "text/plain": [
       "{'标题': ['新市镇环城西路西侧、文昌路北侧'],\n",
       " '出让形式': ['70年'],\n",
       " '总面积': ['念主技江观.领领㎡', '观江.江念 亩'],\n",
       " '规划用途': ['住宅用地']}"
      ]
     },
     "execution_count": 49,
     "metadata": {},
     "output_type": "execute_result"
    }
   ],
   "source": [
    "item"
   ]
  },
  {
   "cell_type": "code",
   "execution_count": 50,
   "metadata": {},
   "outputs": [],
   "source": [
    "div1 = html.xpath(\"//div[@class='base-info'][1]/div[@class='base-item']\") \n",
    "item[' 所在地区'] = div1[0].xpath(\"./div[1]/span[2]/text()\")\n",
    "item['建设用地面积'] = div1[0].xpath(\"./div[2]/span[2]/span[1]/text()\")\n",
    "item['规划建筑面积'] = div1[1].xpath(\"./div[1]/span[2]/span[1]/text()\")\n",
    "item['容积率'] = div1[2].xpath(\"./div[1]/span[2]/text()\")\n",
    "item['绿化率'] = div1[2].xpath(\"./div[2]/span[2]/text()\")\n",
    "item['四至'] = div1[5].xpath(\"./div[2]/span[2]/text()\")\n"
   ]
  },
  {
   "cell_type": "code",
   "execution_count": 51,
   "metadata": {},
   "outputs": [
    {
     "data": {
      "text/plain": [
       "{'标题': ['新市镇环城西路西侧、文昌路北侧'],\n",
       " '出让形式': ['70年'],\n",
       " '总面积': ['念主技江观.领领㎡', '观江.江念 亩'],\n",
       " '规划用途': ['住宅用地'],\n",
       " ' 所在地区': ['\\n                                                                    浙江-湖州市-德清县                            '],\n",
       " '建设用地面积': ['念主技江观.领领㎡'],\n",
       " '规划建筑面积': [' 司4尚技技.领领㎡'],\n",
       " '容积率': ['\\n                                大于或等于1.8并且小于或等于2                                                                 '],\n",
       " '绿化率': ['\\n                                暂无数据\\n                                                            '],\n",
       " '四至': ['\\n                                城镇住宅用地                                                                 ']}"
      ]
     },
     "execution_count": 51,
     "metadata": {},
     "output_type": "execute_result"
    }
   ],
   "source": [
    "item"
   ]
  },
  {
   "cell_type": "code",
   "execution_count": 52,
   "metadata": {},
   "outputs": [],
   "source": [
    "div2 = html.xpath(\"//div[@class='base-info'][2]/div[@class='base-item']\") \n",
    "item['交易状态'] = div2[0].xpath(\"./div[1]/span[2]/text()\")\n",
    "item['保证金']  = div2[0].xpath(\"./div[2]/span[2]//text()\")\n",
    "item['起始日期'] = div2[1].xpath(\"./div[1]/span[2]/text()\")\n",
    "item['起始价'] = div2[1].xpath(\"./div[2]/span[2]//text()\")\n",
    "item['成交日期'] = div2[2].xpath(\"./div[1]/span[2]/text()\")\n",
    "item['成交价'] = div2[2].xpath(\"./div[2]/span[2]/text()\")\n",
    "item['截至日期'] = div2[3].xpath(\"./div[1]/span[2]/text()\")\n",
    "item['楼面单价'] = div2[3].xpath(\"./div[2]/span[2]/text()\")\n",
    "item['最小加价幅度'] = div2[4].xpath(\"./div[1]/span[2]/text()\")\n",
    "item['土地单价'] = div2[4].xpath(\"./div[2]/span[2]/text()\")\n",
    "item['溢价率'] = div2[5].xpath(\"./div[2]/span[2]/text()\")\n",
    "item['竞得方'] = div2[6].xpath(\"./div[2]/span[2]/text()\")"
   ]
  },
  {
   "cell_type": "code",
   "execution_count": 53,
   "metadata": {},
   "outputs": [
    {
     "data": {
      "text/plain": [
       "{'标题': ['新市镇环城西路西侧、文昌路北侧'],\n",
       " '出让形式': ['70年'],\n",
       " '总面积': ['念主技江观.领领㎡', '观江.江念 亩'],\n",
       " '规划用途': ['住宅用地'],\n",
       " ' 所在地区': ['\\n                                                                    浙江-湖州市-德清县                            '],\n",
       " '建设用地面积': ['念主技江观.领领㎡'],\n",
       " '规划建筑面积': [' 司4尚技技.领领㎡'],\n",
       " '容积率': ['\\n                                大于或等于1.8并且小于或等于2                                                                 '],\n",
       " '绿化率': ['\\n                                暂无数据\\n                                                            '],\n",
       " '四至': ['\\n                                城镇住宅用地                                                                 '],\n",
       " '交易状态': ['\\n                                                                    已成交                            '],\n",
       " '保证金': ['\\n                                ',\n",
       "  '念2领领.领领',\n",
       "  '万元\\n                                                                 '],\n",
       " '起始日期': ['\\n                                2019-08-07\\t\\t\\t\\t\\t\\t\\t                                        '],\n",
       " '起始价': ['\\n                                   ',\n",
       "  '江司尚尚.主主',\n",
       "  '万元\\n                                                                 '],\n",
       " '成交日期': ['\\n                                2019-08-07                                                                 '],\n",
       " '成交价': ['\\n                                ***万元\\n                                                            '],\n",
       " '截至日期': ['\\n                                2019-08-07\\t\\t\\t\\t\\t\\t\\t                                        '],\n",
       " '楼面单价': ['\\n        \\n                                    ',\n",
       "  '\\n                                            ',\n",
       "  '\\n                                                                    '],\n",
       " '最小加价幅度': ['\\n                                                                    40                            '],\n",
       " '土地单价': ['\\n                                ',\n",
       "  '\\n                                    ',\n",
       "  '\\n                                                            '],\n",
       " '溢价率': ['\\n                                ***\\n                                                            '],\n",
       " '竞得方': ['\\n                                德清县新旅置业有限公司                                                                 ']}"
      ]
     },
     "execution_count": 53,
     "metadata": {},
     "output_type": "execute_result"
    }
   ],
   "source": [
    "item"
   ]
  }
 ],
 "metadata": {
  "kernelspec": {
   "display_name": "Python 3",
   "language": "python",
   "name": "python3"
  },
  "language_info": {
   "codemirror_mode": {
    "name": "ipython",
    "version": 3
   },
   "file_extension": ".py",
   "mimetype": "text/x-python",
   "name": "python",
   "nbconvert_exporter": "python",
   "pygments_lexer": "ipython3",
   "version": "3.7.3"
  },
  "toc": {
   "base_numbering": 1,
   "nav_menu": {},
   "number_sections": true,
   "sideBar": true,
   "skip_h1_title": false,
   "title_cell": "Table of Contents",
   "title_sidebar": "Contents",
   "toc_cell": false,
   "toc_position": {},
   "toc_section_display": true,
   "toc_window_display": true
  },
  "varInspector": {
   "cols": {
    "lenName": 16,
    "lenType": 16,
    "lenVar": 40
   },
   "kernels_config": {
    "python": {
     "delete_cmd_postfix": "",
     "delete_cmd_prefix": "del ",
     "library": "var_list.py",
     "varRefreshCmd": "print(var_dic_list())"
    },
    "r": {
     "delete_cmd_postfix": ") ",
     "delete_cmd_prefix": "rm(",
     "library": "var_list.r",
     "varRefreshCmd": "cat(var_dic_list()) "
    }
   },
   "types_to_exclude": [
    "module",
    "function",
    "builtin_function_or_method",
    "instance",
    "_Feature"
   ],
   "window_display": false
  }
 },
 "nbformat": 4,
 "nbformat_minor": 2
}
