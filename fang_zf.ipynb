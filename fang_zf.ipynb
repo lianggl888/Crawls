{
 "cells": [
  {
   "cell_type": "code",
   "execution_count": 22,
   "metadata": {},
   "outputs": [],
   "source": [
    "from selenium import webdriver\n",
    "from lxml import etree\n",
    "import time\n",
    "import re\n",
    "from selenium.webdriver.chrome.options import Options\n",
    "import requests\n",
    "from selenium.webdriver.common.by import By  \n",
    "from selenium.webdriver.support.ui import WebDriverWait  \n",
    "from selenium.webdriver.support import expected_conditions as EC  \n",
    "import pandas as pd\n",
    "from datetime import datetime\n",
    "import os\n",
    "import json"
   ]
  },
  {
   "cell_type": "code",
   "execution_count": 2,
   "metadata": {},
   "outputs": [],
   "source": [
    "# chromedriver的绝对路径\n",
    "driver_path = r'C:\\Users\\ZHOU-JC\\Desktop\\chromedriver.exe'\n",
    "#设置无头 \n",
    "# chrome_options = Options()\n",
    "# chrome_options.add_argument('--headless')\n",
    "# driver = webdriver.Chrome(executable_path=driver_path, options=chrome_options)\n",
    "chrome_options = Options()\n",
    "# chrome_options.add_argument(\"disable-web-security\")\n",
    "\n",
    "# 初始化一个driver，并且指定chromedriver的路径\n",
    "driver = webdriver.Chrome(executable_path=driver_path, options =chrome_options)\n",
    "\n",
    "try:\n",
    "    driver.get(\"https://gz.zu.fang.com/\")\n",
    "except:\n",
    "    # 当页面加载时间超过设定时间，通过js来stop，即可执行后续动作\n",
    "    driver.execute_script(\"window.stop()\")\n",
    "# 请求网页"
   ]
  },
  {
   "cell_type": "code",
   "execution_count": 12,
   "metadata": {},
   "outputs": [
    {
     "data": {
      "text/plain": [
       "'\\n广州 = [\\nhttps://gz.zu.fang.com/house-a080/  #增城 45页\\nhttps://gz.zu.fang.com/house-a078/g21/ #番禺 一居 29页\\nhttps://gz.zu.fang.com/house-a078/g22/ #番禺 二居 54页\\nhttps://gz.zu.fang.com/house-a078/g23/ #番禺 三居 66页\\nhttps://gz.zu.fang.com/house-a078/g24/ #番禺 四居 21页\\nhttps://gz.zu.fang.com/house-a078/g299/ #番禺 四居以上 13页\\nhttps://gz.zu.fang.com/house-a084/  #南沙 40页\\nhttps://gz.zu.fang.com/house-a0639/ #花都 26页\\nhttps://gz.zu.fang.com/house-a076/g21/ #白云 一居 23页\\nhttps://gz.zu.fang.com/house-a076/g22/ #白云 二居 40页\\nhttps://gz.zu.fang.com/house-a076/g23/ #白云 三居 39页\\nhttps://gz.zu.fang.com/house-a076/g24/ #白云 四居 9页\\nhttps://gz.zu.fang.com/house-a076/g299/ #白云 四居以上 3页\\nhttps://gz.zu.fang.com/house-a074/g21/ #海珠 一居 36页\\nhttps://gz.zu.fang.com/house-a074/g22/ #海珠 二居 83页\\nhttps://gz.zu.fang.com/house-a074/g23/ #海珠 三居 58页\\nhttps://gz.zu.fang.com/house-a074/g24/ #海珠 四居 19页 \\nhttps://gz.zu.fang.com/house-a074/g299/ #海珠 四居以上 7页\\nhttps://gz.zu.fang.com/house-a072/g21/ #越秀 一居 46页 \\nhttps://gz.zu.fang.com/house-a072/g22/ #越秀 二居 100页\\nhttps://gz.zu.fang.com/house-a072/g23/ #越秀 三居 65页\\nhttps://gz.zu.fang.com/house-a072/g24/ #越秀 四居 7页\\nhttps://gz.zu.fang.com/house-a072/g299/ #越秀 四居以上 4页\\nhttps://gz.zu.fang.com/house-a071/ #荔湾 72页 \\nhttps://gz.zu.fang.com/house-a073/g21/ #天河 一居 100页\\nhttps://gz.zu.fang.com/house-a073/g22/ #天河 二居 100页\\nhttps://gz.zu.fang.com/house-a073/g23/ #天河 三居 100页\\nhttps://gz.zu.fang.com/house-a073/g24/ #天河 四居 33页\\nhttps://gz.zu.fang.com/house-a073/g299/ #天河 四居以上 10页\\nhttps://gz.zu.fang.com/house-a079/ #从化 3页\\nhttps://gz.zu.fang.com/house-a075/ #黄埔 86页\\nhttps://gz.zu.fang.com/house-a015882/ #广州周边 10页\\n]\\n'"
      ]
     },
     "execution_count": 12,
     "metadata": {},
     "output_type": "execute_result"
    }
   ],
   "source": [
    "\n",
    "'''\n",
    "广州 = [\n",
    "https://gz.zu.fang.com/house-a080/  #增城 45页\n",
    "https://gz.zu.fang.com/house-a078/g21/ #番禺 一居 29页\n",
    "https://gz.zu.fang.com/house-a078/g22/ #番禺 二居 54页\n",
    "https://gz.zu.fang.com/house-a078/g23/ #番禺 三居 66页\n",
    "https://gz.zu.fang.com/house-a078/g24/ #番禺 四居 21页\n",
    "https://gz.zu.fang.com/house-a078/g299/ #番禺 四居以上 13页\n",
    "https://gz.zu.fang.com/house-a084/  #南沙 40页\n",
    "https://gz.zu.fang.com/house-a0639/ #花都 26页\n",
    "https://gz.zu.fang.com/house-a076/g21/ #白云 一居 23页\n",
    "https://gz.zu.fang.com/house-a076/g22/ #白云 二居 40页\n",
    "https://gz.zu.fang.com/house-a076/g23/ #白云 三居 39页\n",
    "https://gz.zu.fangh.com/house-a076/g24/ #白云 四居 9页\n",
    "https://gz.zu.fang.com/house-a076/g299/ #白云 四居以上 3页\n",
    "https://gz.zu.fang.com/house-a074/g21/ #海珠 一居 36页\n",
    "https://gz.zu.fang.com/house-a074/g22/ #海珠 二居 83页\n",
    "https://gz.zu.fang.com/house-a074/g23/ #海珠 三居 58页\n",
    "https://gz.zu.fang.com/house-a074/g24/ #海珠 四居 19页 \n",
    "https://gz.zu.fang.com/house-a074/g299/ #海珠 四居以上 7页\n",
    "https://gz.zu.fang.com/house-a072/g21/ #越秀 一居 46页 \n",
    "https://gz.zu.fang.com/house-a072/g22/ #越秀 二居 100页\n",
    "https://gz.zu.fang.com/house-a072/g23/ #越秀 三居 65页\n",
    "https://gz.zu.fang.com/house-a072/g24/ #越秀 四居 7页\n",
    "https://gz.zu.fang.com/house-a072/g299/ #越秀 四居以上 4页\n",
    "https://gz.zu.fang.com/house-a071/ #荔湾 72页 \n",
    "https://gz.zu.fang.com/house-a073/g21/ #天河 一居 100页\n",
    "https://gz.zu.fang.com/house-a073/g22/ #天河 二居 100页\n",
    "https://gz.zu.fang.com/house-a073/g23/ #天河 三居 100页\n",
    "https://gz.zu.fang.com/house-a073/g24/ #天河 四居 33页\n",
    "https://gz.zu.fang.com/house-a073/g299/ #天河 四居以上 10页\n",
    "https://gz.zu.fang.com/house-a079/ #从化 3页\n",
    "https://gz.zu.fang.com/house-a075/ #黄埔 86页\n",
    "https://gz.zu.fang.com/house-a015882/ #广州周边 10页\n",
    "]\n",
    "'''"
   ]
  },
  {
   "cell_type": "markdown",
   "metadata": {},
   "source": [
    "# 增城 (45页)"
   ]
  },
  {
   "cell_type": "code",
   "execution_count": 7,
   "metadata": {},
   "outputs": [],
   "source": [
    "driver.switch_to.window(driver.window_handles[0])\n",
    "driver.execute_script(\"window.open('https://gz.zu.fang.com/house-a080/')\")\n",
    "driver.switch_to.window(driver.window_handles[-1])"
   ]
  },
  {
   "cell_type": "code",
   "execution_count": 10,
   "metadata": {
    "collapsed": true
   },
   "outputs": [
    {
     "name": "stdout",
     "output_type": "stream",
     "text": [
      "当前爬的索引页为 https://gz.zu.fang.com/house-a080/\n",
      "{'标题': '新塘地铁口豪装大三房，房子比照片更漂亮。仅租2100元，实价', '价格_详情': ' 2250 元/月（押二付一） ', '价格': '2250', '出租方式': '整租', '朝向': '东南', '户型': '3室2厅2卫', '楼层': '中层 楼层（共23层）', '建筑面积': '155平米', '装修': '豪华装修', '小区': ['现代城市花园', '增城', '新塘北'], '地址': ['距13号线新塘站约333米'], '网站': 'https://gz.zu.fang.com/chuzu/3_238591073_1.htm?channel=1,2'}\n",
      "{'标题': '翡翠绿洲铂金精装三房，业主精心装修，家私家电齐全，', '价格_详情': ' 2300 元/月（押二付一）   拎包入住  随时看房  ', '价格': '2300', '出租方式': '整租', '朝向': '南北', '户型': '3室2厅1卫', '楼层': '中层 楼层（共25层）', '建筑面积': '98平米', '装修': '精装修', '小区': ['翡翠绿洲森林半岛', '增城', '广园东'], '地址': ['开创大道北埔南路'], '网站': 'https://gz.zu.fang.com/chuzu/3_240746806_1.htm?channel=1,8'}\n",
      "{'标题': '合生湖生花园精装2房，全新装修，钥匙在手随时看房', '价格_详情': ' 1800 元/月（押二付一） ', '价格': '1800', '出租方式': '整租', '朝向': '南', '户型': '2室2厅1卫', '楼层': '高层 楼层（共33层）', '建筑面积': '90平米', '装修': '精装修', '小区': ['合生湖山国际', '增城', '广园东'], '地址': ['陈家林路10号'], '网站': 'https://gz.zu.fang.com/chuzu/3_240747406_1.htm?channel=1,8'}\n",
      "{'标题': '海伦堡花园 配套好 近地铁 望花园 业主急租，价格可谈', '价格_详情': ' 2300 元/月（押二付一）   家电齐全  随时看房  拎包入住  ', '价格': '2300', '出租方式': '整租', '朝向': '南北', '户型': '3室2厅2卫', '楼层': '中层 楼层（共17层）', '建筑面积': '95平米', '装修': '精装修', '小区': ['中颐海伦堡花园', '增城', '新塘南'], '地址': ['新塘镇南埔村海伦堡大道'], '网站': 'https://gz.zu.fang.com/chuzu/3_240347492_1.htm?channel=1,2'}\n",
      "{'标题': '新 放租：家私电器齐全。业主刚买的，住家都可租！', '价格_详情': ' 8000 元/月（押二付一） ', '价格': '8000', '出租方式': '整租', '朝向': '东', '户型': '5室2厅6卫', '楼层': '低层 楼层（共3层）', '建筑面积': '315平米', '装修': '豪华装修', '小区': ['碧桂园凤凰城凤鸣苑', '增城', '凤凰城'], '地址': ['广园东快速路'], '网站': 'https://gz.zu.fang.com/chuzu/3_241194323_1.htm?channel=1,2'}\n",
      "{'标题': ' 富雅名居 1600元 3室2厅2卫 精装修带衣服直接入', '价格_详情': ' 1600 元/月（押二付一） ', '价格': '1600', '出租方式': '整租', '朝向': '南北', '户型': '3室2厅2卫', '楼层': '高层 楼层（共9层）', '建筑面积': '110平米', '装修': '精装修', '小区': ['富雅名居', '增城', '新塘北'], '地址': ['距13号线新塘站约1079米'], '网站': 'https://gz.zu.fang.com/chuzu/3_241304286_1.htm?channel=1,2'}\n",
      "{'标题': '社区环境好：旁边就有个地口 。24保安，小区闹中取静，人文素质', '价格_详情': ' 1500 元/月（押二付一）   小区管理  生活便利  家电齐全  ', '价格': '1500', '出租方式': '整租', '朝向': '南', '户型': '2室1厅1卫', '楼层': '高层 楼层（共25层）', '建筑面积': '74平米', '装修': '精装修', '小区': ['江山时代', '增城', '朱村'], '地址': ['距21号线凤岗约923米'], '网站': 'https://gz.zu.fang.com/chuzu/3_240981791_1.htm?channel=1,2'}\n",
      "{'标题': '翡翠绿洲 麦当劳星巴克旁大两房 生活方便 随时看房 业主急租', '价格_详情': ' 2200 元/月（押一付一）   采光好  低价出租  生活便利  ', '价格': '2200', '出租方式': '整租', '朝向': '南', '户型': '2室2厅1卫', '楼层': '高层 楼层（共25层）', '建筑面积': '80平米', '装修': '豪华装修', '小区': ['翡翠绿洲森林半岛', '增城', '广园东'], '地址': ['开创大道北埔南路'], '网站': 'https://gz.zu.fang.com/chuzu/3_236537594_1.htm?channel=1,2'}\n",
      "{'标题': '翡翠绿洲 森林半岛 温馨两房 小区位置安静 环境优美', '价格_详情': ' 2500 元/月（押一付二）   小区管理  采光好  随时看房  ', '价格': '2500', '出租方式': '整租', '朝向': '南', '户型': '2室1厅1卫', '楼层': '低层 楼层（共25层）', '建筑面积': '118平米', '装修': '精装修', '小区': ['翡翠绿洲森林半岛', '增城', '广园东'], '地址': ['开创大道北埔南路'], '网站': 'https://gz.zu.fang.com/chuzu/3_241119927_1.htm?channel=1,2'}\n"
     ]
    },
    {
     "ename": "TimeoutException",
     "evalue": "Message: \n",
     "output_type": "error",
     "traceback": [
      "\u001b[1;31m---------------------------------------------------------------------------\u001b[0m",
      "\u001b[1;31mTimeoutException\u001b[0m                          Traceback (most recent call last)",
      "\u001b[1;32m<ipython-input-10-057f6470ef94>\u001b[0m in \u001b[0;36m<module>\u001b[1;34m\u001b[0m\n\u001b[0;32m      9\u001b[0m         \u001b[0mpage_detail\u001b[0m\u001b[1;33m.\u001b[0m\u001b[0mclick\u001b[0m\u001b[1;33m(\u001b[0m\u001b[1;33m)\u001b[0m\u001b[1;33m\u001b[0m\u001b[1;33m\u001b[0m\u001b[0m\n\u001b[0;32m     10\u001b[0m         \u001b[0mdriver\u001b[0m\u001b[1;33m.\u001b[0m\u001b[0mswitch_to\u001b[0m\u001b[1;33m.\u001b[0m\u001b[0mwindow\u001b[0m\u001b[1;33m(\u001b[0m\u001b[0mdriver\u001b[0m\u001b[1;33m.\u001b[0m\u001b[0mwindow_handles\u001b[0m\u001b[1;33m[\u001b[0m\u001b[1;33m-\u001b[0m\u001b[1;36m1\u001b[0m\u001b[1;33m]\u001b[0m\u001b[1;33m)\u001b[0m  \u001b[1;31m#跳到详情页\u001b[0m\u001b[1;33m\u001b[0m\u001b[1;33m\u001b[0m\u001b[0m\n\u001b[1;32m---> 11\u001b[1;33m         \u001b[0mWebDriverWait\u001b[0m\u001b[1;33m(\u001b[0m\u001b[0mdriver\u001b[0m\u001b[1;33m,\u001b[0m \u001b[1;36m0.5\u001b[0m\u001b[1;33m)\u001b[0m\u001b[1;33m.\u001b[0m\u001b[0muntil\u001b[0m\u001b[1;33m(\u001b[0m\u001b[0mEC\u001b[0m\u001b[1;33m.\u001b[0m\u001b[0mpresence_of_element_located\u001b[0m\u001b[1;33m(\u001b[0m\u001b[1;33m(\u001b[0m\u001b[0mBy\u001b[0m\u001b[1;33m.\u001b[0m\u001b[0mPARTIAL_LINK_TEXT\u001b[0m\u001b[1;33m,\u001b[0m \u001b[1;34m'装修'\u001b[0m\u001b[1;33m)\u001b[0m\u001b[1;33m)\u001b[0m\u001b[1;33m)\u001b[0m\u001b[1;33m\u001b[0m\u001b[1;33m\u001b[0m\u001b[0m\n\u001b[0m\u001b[0;32m     12\u001b[0m         \u001b[0msource\u001b[0m \u001b[1;33m=\u001b[0m \u001b[0mdriver\u001b[0m\u001b[1;33m.\u001b[0m\u001b[0mpage_source\u001b[0m\u001b[1;33m\u001b[0m\u001b[1;33m\u001b[0m\u001b[0m\n\u001b[0;32m     13\u001b[0m         \u001b[1;32mtry\u001b[0m\u001b[1;33m:\u001b[0m\u001b[1;33m\u001b[0m\u001b[1;33m\u001b[0m\u001b[0m\n",
      "\u001b[1;32mD:\\software\\Anaconda3\\lib\\site-packages\\selenium\\webdriver\\support\\wait.py\u001b[0m in \u001b[0;36muntil\u001b[1;34m(self, method, message)\u001b[0m\n\u001b[0;32m     78\u001b[0m             \u001b[1;32mif\u001b[0m \u001b[0mtime\u001b[0m\u001b[1;33m.\u001b[0m\u001b[0mtime\u001b[0m\u001b[1;33m(\u001b[0m\u001b[1;33m)\u001b[0m \u001b[1;33m>\u001b[0m \u001b[0mend_time\u001b[0m\u001b[1;33m:\u001b[0m\u001b[1;33m\u001b[0m\u001b[1;33m\u001b[0m\u001b[0m\n\u001b[0;32m     79\u001b[0m                 \u001b[1;32mbreak\u001b[0m\u001b[1;33m\u001b[0m\u001b[1;33m\u001b[0m\u001b[0m\n\u001b[1;32m---> 80\u001b[1;33m         \u001b[1;32mraise\u001b[0m \u001b[0mTimeoutException\u001b[0m\u001b[1;33m(\u001b[0m\u001b[0mmessage\u001b[0m\u001b[1;33m,\u001b[0m \u001b[0mscreen\u001b[0m\u001b[1;33m,\u001b[0m \u001b[0mstacktrace\u001b[0m\u001b[1;33m)\u001b[0m\u001b[1;33m\u001b[0m\u001b[1;33m\u001b[0m\u001b[0m\n\u001b[0m\u001b[0;32m     81\u001b[0m \u001b[1;33m\u001b[0m\u001b[0m\n\u001b[0;32m     82\u001b[0m     \u001b[1;32mdef\u001b[0m \u001b[0muntil_not\u001b[0m\u001b[1;33m(\u001b[0m\u001b[0mself\u001b[0m\u001b[1;33m,\u001b[0m \u001b[0mmethod\u001b[0m\u001b[1;33m,\u001b[0m \u001b[0mmessage\u001b[0m\u001b[1;33m=\u001b[0m\u001b[1;34m''\u001b[0m\u001b[1;33m)\u001b[0m\u001b[1;33m:\u001b[0m\u001b[1;33m\u001b[0m\u001b[1;33m\u001b[0m\u001b[0m\n",
      "\u001b[1;31mTimeoutException\u001b[0m: Message: \n"
     ]
    }
   ],
   "source": [
    "driver.switch_to.window(driver.window_handles[1])  #跳回列表页\n",
    "\n",
    "Infos = []\n",
    "next_page = driver.find_element_by_partial_link_text(\"下一页\")\n",
    "pages_detail = driver.find_elements_by_xpath(\"//p[@class='title']/a\")\n",
    "while next_page:\n",
    "    print('当前爬的索引页为', driver.current_url)\n",
    "    for page_detail in pages_detail:\n",
    "        page_detail.click()\n",
    "        driver.switch_to.window(driver.window_handles[-1])  #跳到详情页\n",
    "        WebDriverWait(driver, 0.5).until(EC.presence_of_element_located((By.PARTIAL_LINK_TEXT, '装修')))   \n",
    "        source = driver.page_source\n",
    "        try: \n",
    "            Info = parse_detail_page(source)\n",
    "        except:\n",
    "            pass \n",
    "        Info['网站'] = driver.current_url\n",
    "        print(Info)\n",
    "        \n",
    "        #保存入json文件\n",
    "        jsonbj = json.dumps(Info)\n",
    "        self.json.write(\"\\n\"+jsonbj)\n",
    "        \n",
    "        Infos.append(Info)\n",
    "        driver.close()\n",
    "        driver.switch_to.window(driver.window_handles[1])  #跳回列表页\n",
    "    next_page.click()\n",
    "    driver.switch_to.window(driver.window_handles[-1])  #跳回新的索引页  \n",
    "    try:\n",
    "        next_page = driver.find_element_by_partial_link_text(\"下一页\")\n",
    "        pages_detail = driver.find_elements_by_xpath(\"//p[@class='title']/a\")\n",
    "    except:\n",
    "        next_page = None\n",
    "        \n",
    "        print('爬虫完毕')"
   ]
  },
  {
   "cell_type": "markdown",
   "metadata": {},
   "source": [
    "# 番禺(超过100页)"
   ]
  },
  {
   "cell_type": "markdown",
   "metadata": {},
   "source": [
    "## 一居(29页)"
   ]
  },
  {
   "cell_type": "markdown",
   "metadata": {},
   "source": [
    "## 二居(54页)"
   ]
  },
  {
   "cell_type": "markdown",
   "metadata": {},
   "source": [
    "## 三居(65页)"
   ]
  },
  {
   "cell_type": "markdown",
   "metadata": {},
   "source": [
    "## 四居(21页)"
   ]
  },
  {
   "cell_type": "markdown",
   "metadata": {},
   "source": [
    "## 四居以上(13页)"
   ]
  },
  {
   "cell_type": "code",
   "execution_count": 9,
   "metadata": {},
   "outputs": [],
   "source": [
    "def parse_detail_page(source):\n",
    "    Info = {}\n",
    "    html = etree.HTML(source)\n",
    "    Info['标题'] = html.xpath(\"//div[@class='tab-cont clearfix']/h1/text()\")[0]\n",
    "#     Info['价格'] = html.xpath(\"//div[@class='tr-line clearfix zf_new_title']//i/text()\")[0] \\\n",
    "#                                 + html.xpath(\"//div[@class='tr-line clearfix zf_new_title']/div//text()\")\n",
    "    Info['价格_详情'] = html.xpath(\"//div[@class='tr-line clearfix zf_new_title']//text()\")\n",
    "    Info['价格_详情'] = \" \".join(map(lambda x:x.strip(), Info['价格_详情']))\n",
    "    Info['价格'] = html.xpath(\"//div[@class='tr-line clearfix zf_new_title']//i/text()\")[0]\n",
    "    Info['出租方式'] = html.xpath(\"//div[@class='trl-item1 w146']\")[0].xpath(\"./div/text()\")[0].strip()\n",
    "    Info['朝向'] =     html.xpath(\"//div[@class='trl-item1 w146']\")[1].xpath(\"./div[@class='tt']/text()\")[0]\n",
    "    Info['户型'] = html.xpath(\"//div[@class='trl-item1 w182']\")[0].xpath(\"./div[@class='tt']/text()\")[0]\n",
    "    Info['楼层'] = html.xpath(\"//div[@class='trl-item1 w182']\")[1].xpath(\"./div[@class='tt']/text()\")[0] + \" \" + html.xpath(\"//div[@class='trl-item1 w182']\")[1].xpath(\"./div[@class='font14']/text()\")[0]\n",
    "    Info['建筑面积'] = html.xpath(\"//div[@class='trl-item1 w132']\")[0].xpath(\"./div[@class='tt']/text()\")[0]\n",
    "    Info['装修'] = html.xpath(\"//div[@class='trl-item1 w132']\")[1].xpath(\"./div[@class='tt']/text()\")[0]\n",
    "    Info['小区'] = html.xpath(\"//div[contains(@class,'rcont')]\")[0].xpath(\"./a/text()\")\n",
    "    Info['地址'] = html.xpath(\"//div[contains(@class,'rcont')]\")[1].xpath(\"./a/text()\")\n",
    "#     Info['朝向'] = html.xpath(\"//div[@class='trl-item1 w146'][2]/div[@class='tt']/text()\")[0]\n",
    "#     Info['户型'] = html.xpath(\"//div[@class='trl-item1 w182']/div[@class='tt']/text()\")[0]\n",
    "#     Info['楼层'] = html.xpath(\"//div[@class='trl-item1 w182']/div/text()\")\n",
    "#     Info['建筑面积'] = html.xpath(\"//div[@class='trl-item1 w132'][1]/div[@class='tt']/text()\")[0]\n",
    "#     Info['装修'] = html.xpath(\"//div[@class='trl-item1 w132'][2]/div[@class='tt']/text()\")[0]\n",
    "    return Info"
   ]
  },
  {
   "cell_type": "code",
   "execution_count": null,
   "metadata": {},
   "outputs": [],
   "source": [
    "PROJECT_PATH = os.getcwd()\n",
    "PROJECT_PATH = os.path.join(PROJECT_PATH, \"fang_zf\", 'fang_zf.csv')\n",
    "\n",
    "def __init__(self):\n",
    "    self.json = open(PROJECT_PATH 'fang_zf.json')\n",
    "    "
   ]
  },
  {
   "cell_type": "code",
   "execution_count": 43,
   "metadata": {},
   "outputs": [],
   "source": [
    "PROJECT_PATH = os.getcwd()\n",
    "PROJECT_PATH = os.path.join(PROJECT_PATH, \"fang_zf\")\n",
    "f = open(os.path.join(PROJECT_PATH, 'fang_xf{}.json'.format(datetime.now().strftime('%Y-%m-%d'))), 'w', encoding='utf-8')\n",
    "a = {'测试':'232', \"测试2\":'234324'}\n",
    "jsonbj = json.dumps(a)\n",
    "jsonbj = json.dumps(a)\n",
    "\n",
    "f.write(jsonbj)\n",
    "f.write('\\n'+jsonbj)\n",
    "\n",
    "f.close()"
   ]
  }
 ],
 "metadata": {
  "kernelspec": {
   "display_name": "Python 3",
   "language": "python",
   "name": "python3"
  },
  "language_info": {
   "codemirror_mode": {
    "name": "ipython",
    "version": 3
   },
   "file_extension": ".py",
   "mimetype": "text/x-python",
   "name": "python",
   "nbconvert_exporter": "python",
   "pygments_lexer": "ipython3",
   "version": "3.7.3"
  },
  "toc": {
   "base_numbering": 1,
   "nav_menu": {},
   "number_sections": true,
   "sideBar": true,
   "skip_h1_title": false,
   "title_cell": "Table of Contents",
   "title_sidebar": "Contents",
   "toc_cell": false,
   "toc_position": {
    "height": "678px",
    "left": "35px",
    "top": "178px",
    "width": "300px"
   },
   "toc_section_display": true,
   "toc_window_display": true
  },
  "varInspector": {
   "cols": {
    "lenName": 16,
    "lenType": 16,
    "lenVar": 40
   },
   "kernels_config": {
    "python": {
     "delete_cmd_postfix": "",
     "delete_cmd_prefix": "del ",
     "library": "var_list.py",
     "varRefreshCmd": "print(var_dic_list())"
    },
    "r": {
     "delete_cmd_postfix": ") ",
     "delete_cmd_prefix": "rm(",
     "library": "var_list.r",
     "varRefreshCmd": "cat(var_dic_list()) "
    }
   },
   "types_to_exclude": [
    "module",
    "function",
    "builtin_function_or_method",
    "instance",
    "_Feature"
   ],
   "window_display": false
  }
 },
 "nbformat": 4,
 "nbformat_minor": 2
}
