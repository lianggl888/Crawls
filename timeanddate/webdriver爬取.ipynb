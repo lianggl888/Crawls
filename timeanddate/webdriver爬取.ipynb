{
 "cells": [
  {
   "cell_type": "code",
   "execution_count": 25,
   "metadata": {},
   "outputs": [
    {
     "name": "stdout",
     "output_type": "stream",
     "text": [
      "shenzhen\n",
      "2018\n",
      "开始爬1月\n",
      "加载超过10秒，强制停止加载。。。\n",
      "当月一共有多少31天\n"
     ]
    }
   ],
   "source": [
    "from selenium import webdriver\n",
    "from lxml import etree\n",
    "import time\n",
    "import re\n",
    "from selenium.webdriver.support.ui import WebDriverWait\n",
    "from selenium.webdriver.support import expected_conditions as EC\n",
    "from selenium.webdriver.common.by import By\n",
    "from selenium.webdriver.support.ui import Select\n",
    "from selenium.webdriver.chrome.options import Options\n",
    "from selenium.common.exceptions import TimeoutException\n",
    "from lxml import etree\n",
    "import requests\n",
    "from lxml import etree\n",
    "import pandas as pd\n",
    "\n",
    "\n",
    "# 得到网站的city列表citys\n",
    "def get_city():\n",
    "    response = requests.get('https://www.timeanddate.com/weather/china')\n",
    "    html = etree.HTML(response.text)\n",
    "    container = html.xpath(\"//a[contains(@href,'/weather/china')]\")\n",
    "    citys = []\n",
    "    for each in container:\n",
    "        city = each.xpath(\"./text()\")[0]\n",
    "        citys.append(city)\n",
    "    return citys\n",
    "\n",
    "citys = get_city()\n",
    "\n",
    "\n",
    "class Timeanddate(object):\n",
    "    driver_path = r'D:\\chromedriver.exe'\n",
    "\n",
    "    def __init__(self, city, month, year):\n",
    "        ################无头#######################################################3\n",
    "        chrome_options = Options()\n",
    "        chrome_options.add_argument('--headless')\n",
    "        self.driver = webdriver.Chrome('D:/chromedriver.exe', options=chrome_options)\n",
    "#         self.driver = webdriver.Chrome(executable_path=Timeanddate.driver_path)  #打开浏览器来启动\n",
    "        #############################################################################\n",
    "        self.driver.set_page_load_timeout(10)  # 设置页面最大加载时间\n",
    "        self.data = []\n",
    "        self.city = city\n",
    "        self.month = month\n",
    "        self.year = year\n",
    "        self.url = 'https://www.timeanddate.com/weather/china/{}/historic?month={}&year={}'.format(self.city,\n",
    "                                                                                                   self.month,\n",
    "                                                                                                   self.year)\n",
    "\n",
    "    def run(self):\n",
    "        # 防止读取页面时间过慢\n",
    "        try:\n",
    "            self.driver.get(self.url)\n",
    "        except TimeoutException:\n",
    "            print(\"加载超过10秒，强制停止加载。。。\")\n",
    "            self.driver.execute_script(\"window.stop()\")\n",
    "#         #######################\n",
    "#         time.sleep(2)\n",
    "#         #######################\n",
    "\n",
    "\n",
    "        source = self.driver.page_source\n",
    "        month = self.get_days_eachmonth(source)  # 获取当月所有天数\n",
    "\n",
    "        print(\"当月一共有多少{}天\".format(month))\n",
    "\n",
    "        selectTag = Select(self.driver.find_element_by_id('wt-his-select'))\n",
    "\n",
    "        # 获取该月所有天\n",
    "        for index in range(month):\n",
    "            self.index = index\n",
    "            selectTag.select_by_index(self.index)\n",
    "            source = self.driver.page_source\n",
    "            self.parse_page(source)  # 解析页面获取数据\n",
    "        self.driver.close()\n",
    "\n",
    "    # 得到每个月包含的天数\n",
    "    def get_days_eachmonth(self, source):\n",
    "        html = etree.HTML(source)\n",
    "        days_eachmonth = html.xpath(\"//select[@id='wt-his-select']/option\")\n",
    "        # days_eachmonth = html.xpath(\"//div[@class='weatherLinks']//a\")\n",
    "\n",
    "        days_eachmonth = len(days_eachmonth)\n",
    "        return days_eachmonth\n",
    "\n",
    "    def parse_page(self, source):  # 获取当页的数据\n",
    "        html = etree.HTML(source)\n",
    "        hours = html.xpath(\"//table[@id='wt-his']/tbody/tr\")\n",
    "        for hour in hours:\n",
    "            time = hour.xpath(\"./th/text()\")\n",
    "            content = hour.xpath(\"./td/text()\")\n",
    "            Temp = content[0]\n",
    "            Temp = re.search('\\d+', Temp).group()\n",
    "            Weather = content[1]\n",
    "            Weather = re.sub('\\.', '', Weather)\n",
    "            Comfort = content[2]\n",
    "            Humidity = content[3]\n",
    "            Barometer = content[4]\n",
    "            Visibility = content[5]\n",
    "            days = {\n",
    "                'city': self.city,\n",
    "                'year': self.year,\n",
    "                'month': self.month,\n",
    "                'day': self.index,\n",
    "                'time': time,\n",
    "                'Temp': Temp,\n",
    "                'Weather': Weather,\n",
    "                'Comfort': Comfort,\n",
    "                'Humidity': Humidity,\n",
    "                'Barometer': Barometer,\n",
    "                'Visibility': Visibility\n",
    "            }\n",
    "            self.data.append(days)\n",
    "#             print(self.index, days)\n",
    "\n",
    "if __name__ == '__main__':\n",
    "    data = []\n",
    "\n",
    "    for city in ['shenzhen']:\n",
    "        print(city)\n",
    "        for year in [2018]:\n",
    "            print(year)\n",
    "            for month in range(1,2):\n",
    "                print(\"开始爬{}月\".format(month))\n",
    "                spider = Timeanddate(city=city, month=month, year=year)\n",
    "                spider.run()\n",
    "                data.extend(spider.data)"
   ]
  },
  {
   "cell_type": "code",
   "execution_count": 28,
   "metadata": {},
   "outputs": [],
   "source": [
    "data = pd.DataFrame.from_dict(data)"
   ]
  },
  {
   "cell_type": "code",
   "execution_count": 37,
   "metadata": {},
   "outputs": [
    {
     "data": {
      "text/plain": [
       "'20190723_1158'"
      ]
     },
     "execution_count": 37,
     "metadata": {},
     "output_type": "execute_result"
    }
   ],
   "source": [
    "import datetime\n",
    "nowTime=datetime.datetime.now().strftime('%Y%m%d_%H%M')#现在\n",
    "nowTime"
   ]
  },
  {
   "cell_type": "code",
   "execution_count": 39,
   "metadata": {},
   "outputs": [],
   "source": [
    "data.to_csv(\"{}.csv\".format(nowTime), index=False)"
   ]
  }
 ],
 "metadata": {
  "kernelspec": {
   "display_name": "Python 3",
   "language": "python",
   "name": "python3"
  },
  "language_info": {
   "codemirror_mode": {
    "name": "ipython",
    "version": 3
   },
   "file_extension": ".py",
   "mimetype": "text/x-python",
   "name": "python",
   "nbconvert_exporter": "python",
   "pygments_lexer": "ipython3",
   "version": "3.7.3"
  },
  "toc": {
   "base_numbering": 1,
   "nav_menu": {},
   "number_sections": true,
   "sideBar": true,
   "skip_h1_title": false,
   "title_cell": "Table of Contents",
   "title_sidebar": "Contents",
   "toc_cell": false,
   "toc_position": {},
   "toc_section_display": true,
   "toc_window_display": false
  },
  "varInspector": {
   "cols": {
    "lenName": 16,
    "lenType": 16,
    "lenVar": 40
   },
   "kernels_config": {
    "python": {
     "delete_cmd_postfix": "",
     "delete_cmd_prefix": "del ",
     "library": "var_list.py",
     "varRefreshCmd": "print(var_dic_list())"
    },
    "r": {
     "delete_cmd_postfix": ") ",
     "delete_cmd_prefix": "rm(",
     "library": "var_list.r",
     "varRefreshCmd": "cat(var_dic_list()) "
    }
   },
   "types_to_exclude": [
    "module",
    "function",
    "builtin_function_or_method",
    "instance",
    "_Feature"
   ],
   "window_display": false
  }
 },
 "nbformat": 4,
 "nbformat_minor": 2
}
