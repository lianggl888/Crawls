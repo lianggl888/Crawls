{
 "cells": [
  {
   "cell_type": "code",
   "execution_count": 46,
   "metadata": {},
   "outputs": [],
   "source": [
    "from selenium import webdriver\n",
    "from lxml import etree\n",
    "import time\n",
    "import re\n",
    "from selenium.webdriver.chrome.options import Options\n",
    "from datetime import datetime\n",
    "import re\n",
    "import pandas as pd"
   ]
  },
  {
   "cell_type": "code",
   "execution_count": 75,
   "metadata": {},
   "outputs": [],
   "source": [
    "# chromedriver的绝对路径\n",
    "driver_path = r'D:\\chromedriver.exe'\n",
    "# 初始化一个driver，并且指定chromedriver的路径\n",
    "driver = webdriver.Chrome(executable_path=driver_path)\n",
    "\n",
    "\n",
    "#设置无头 \n",
    "# chrome_options = Options()\n",
    "# chrome_options.add_argument('--headless')\n",
    "# driver = webdriver.Chrome(executable_path=driver_path, options=chrome_options)\n",
    "\n",
    "\n",
    "\n",
    "# 请求网页\n",
    "driver.get(\"http://www.tianqi.com/tianqi/guangzhou/201906.html\")  #广州6月份数据\n",
    "# 通过page_source获取网页源代码\n",
    "# print(driver.page_source)"
   ]
  },
  {
   "cell_type": "markdown",
   "metadata": {},
   "source": [
    "# 广州"
   ]
  },
  {
   "cell_type": "code",
   "execution_count": 76,
   "metadata": {},
   "outputs": [],
   "source": [
    "source = driver.page_source\n",
    "html = etree.HTML(source)"
   ]
  },
  {
   "cell_type": "code",
   "execution_count": 77,
   "metadata": {},
   "outputs": [],
   "source": [
    "days = html.xpath(\"//li[@class='inmonth']\")\n",
    "city = \"广州\"\n",
    "year = str(datetime.now().year)"
   ]
  },
  {
   "cell_type": "code",
   "execution_count": 78,
   "metadata": {},
   "outputs": [],
   "source": [
    "Infos = []\n",
    "for day in days:\n",
    "    Info = {}\n",
    "    date = day.xpath(\"./a/div/span[1]/text()\")\n",
    "    try:\n",
    "        date = date[0]\n",
    "        date = date\n",
    "        date = datetime(2019, 6, int(date)).strftime(\"%Y%m%d\")\n",
    "    except:\n",
    "        date = None\n",
    "        \n",
    "    condition = day.xpath(\"./a/div[3]/text()\")\n",
    "    try:\n",
    "        condition = condition[0]\n",
    "    except:\n",
    "        condition = None\n",
    "    temp = str(day.xpath(\"./a/div[4]/text()\"))\n",
    "    temp = re.search(\"(\\d+)~(\\d+)\", temp)\n",
    "    try:\n",
    "        min = temp.group(1)\n",
    "        max = temp.group(2)\n",
    "        max = int(max)\n",
    "        min = int(min)\n",
    "    except:\n",
    "        min = None\n",
    "        max = None\n",
    "    Info['city'] = 'gz'\n",
    "    Info['max'] = max\n",
    "    Info['min'] = min\n",
    "    Info['condition'] = condition\n",
    "    Info['date'] = date\n",
    "    Infos.append(Info)"
   ]
  },
  {
   "cell_type": "code",
   "execution_count": 79,
   "metadata": {},
   "outputs": [],
   "source": [
    "driver.get(\"http://www.tianqi.com/tianqi/guangzhou/201907.html\")  #广州7月份数据\n",
    "driver.switch_to.window(driver.window_handles[0])\n",
    "source = driver.page_source\n",
    "html = etree.HTML(source)"
   ]
  },
  {
   "cell_type": "code",
   "execution_count": 80,
   "metadata": {},
   "outputs": [],
   "source": [
    "for day in days:\n",
    "    Info = {}\n",
    "    date = day.xpath(\"./a/div/span[1]/text()\")\n",
    "    try:\n",
    "        date = date[0]\n",
    "        date = date\n",
    "        date = datetime(2019, 7, int(date)).strftime(\"%Y%m%d\")\n",
    "    except:\n",
    "        date = None\n",
    "        \n",
    "    condition = day.xpath(\"./a/div[3]/text()\")\n",
    "    try:\n",
    "        condition = condition[0]\n",
    "    except:\n",
    "        condition = None\n",
    "    temp = str(day.xpath(\"./a/div[4]/text()\"))\n",
    "    temp = re.search(\"(\\d+)~(\\d+)\", temp)\n",
    "    try:\n",
    "        min = temp.group(1)\n",
    "        max = temp.group(2)\n",
    "        max = int(max)\n",
    "        min = int(min)\n",
    "    except:\n",
    "        min = None\n",
    "        max = None\n",
    "    Info['city'] = 'gz'\n",
    "    Info['max'] = max\n",
    "    Info['min'] = min\n",
    "    Info['condition'] = condition\n",
    "    Info['date'] = date\n",
    "    Infos.append(Info)"
   ]
  },
  {
   "cell_type": "code",
   "execution_count": 81,
   "metadata": {},
   "outputs": [],
   "source": [
    "df = pd.DataFrame(Infos)\n",
    "df.to_excel(\"广州.xls\")"
   ]
  },
  {
   "cell_type": "markdown",
   "metadata": {},
   "source": [
    "# 佛山"
   ]
  },
  {
   "cell_type": "code",
   "execution_count": 83,
   "metadata": {},
   "outputs": [],
   "source": [
    "# chromedriver的绝对路径\n",
    "driver_path = r'D:\\chromedriver.exe'\n",
    "# 初始化一个driver，并且指定chromedriver的路径\n",
    "driver = webdriver.Chrome(executable_path=driver_path)\n",
    "\n",
    "\n",
    "#设置无头 \n",
    "# chrome_options = Options()\n",
    "# chrome_options.add_argument('--headless')\n",
    "# driver = webdriver.Chrome(executable_path=driver_path, options=chrome_options)\n",
    "\n",
    "\n",
    "\n",
    "# 请求网页\n",
    "driver.get(\"http://www.tianqi.com/tianqi/foshan/201906.html\")  #佛山6月份数据\n",
    "# 通过page_source获取网页源代码\n",
    "# print(driver.page_source)\n",
    "# 通过page_source获取网页源代码\n",
    "# print(driver.page_source)\n",
    "source = driver.page_source\n",
    "html = etree.HTML(source)\n",
    "days = html.xpath(\"//li[@class='inmonth']\")\n",
    "city = \"广州\"\n",
    "year = str(datetime.now().year)"
   ]
  },
  {
   "cell_type": "code",
   "execution_count": 84,
   "metadata": {},
   "outputs": [],
   "source": [
    "Infos = []\n",
    "for day in days:\n",
    "    Info = {}\n",
    "    date = day.xpath(\"./a/div/span[1]/text()\")\n",
    "    try:\n",
    "        date = date[0]\n",
    "        date = date\n",
    "        date = datetime(2019, 6, int(date)).strftime(\"%Y%m%d\")\n",
    "    except:\n",
    "        date = None\n",
    "        \n",
    "    condition = day.xpath(\"./a/div[3]/text()\")\n",
    "    try:\n",
    "        condition = condition[0]\n",
    "    except:\n",
    "        condition = None\n",
    "    temp = str(day.xpath(\"./a/div[4]/text()\"))\n",
    "    temp = re.search(\"(\\d+)~(\\d+)\", temp)\n",
    "    try:\n",
    "        min = temp.group(1)\n",
    "        max = temp.group(2)\n",
    "        max = int(max)\n",
    "        min = int(min)\n",
    "    except:\n",
    "        min = None\n",
    "        max = None\n",
    "    Info['city'] = 'fs'\n",
    "    Info['max'] = max\n",
    "    Info['min'] = min\n",
    "    Info['condition'] = condition\n",
    "    Info['date'] = date\n",
    "    Infos.append(Info)"
   ]
  },
  {
   "cell_type": "code",
   "execution_count": 85,
   "metadata": {},
   "outputs": [],
   "source": [
    "driver.get(\"http://www.tianqi.com/tianqi/foshan/201907.html\")  #佛山7月份数据\n",
    "driver.switch_to.window(driver.window_handles[0])\n",
    "source = driver.page_source\n",
    "html = etree.HTML(source)"
   ]
  },
  {
   "cell_type": "code",
   "execution_count": 86,
   "metadata": {},
   "outputs": [],
   "source": [
    "for day in days:\n",
    "    Info = {}\n",
    "    date = day.xpath(\"./a/div/span[1]/text()\")\n",
    "    try:\n",
    "        date = date[0]\n",
    "        date = date\n",
    "        date = datetime(2019, 7, int(date)).strftime(\"%Y%m%d\")\n",
    "    except:\n",
    "        date = None\n",
    "        \n",
    "    condition = day.xpath(\"./a/div[3]/text()\")\n",
    "    try:\n",
    "        condition = condition[0]\n",
    "    except:\n",
    "        condition = None\n",
    "    temp = str(day.xpath(\"./a/div[4]/text()\"))\n",
    "    temp = re.search(\"(\\d+)~(\\d+)\", temp)\n",
    "    try:\n",
    "        min = temp.group(1)\n",
    "        max = temp.group(2)\n",
    "        max = int(max)\n",
    "        min = int(min)\n",
    "    except:\n",
    "        min = None\n",
    "        max = None\n",
    "    Info['city'] = 'fs'\n",
    "    Info['max'] = max\n",
    "    Info['min'] = min\n",
    "    Info['condition'] = condition\n",
    "    Info['date'] = date\n",
    "    Infos.append(Info)"
   ]
  },
  {
   "cell_type": "code",
   "execution_count": 87,
   "metadata": {},
   "outputs": [],
   "source": [
    "df = pd.DataFrame(Infos)\n",
    "df.to_excel(\"佛山.xls\")"
   ]
  },
  {
   "cell_type": "markdown",
   "metadata": {},
   "source": [
    "# 深圳"
   ]
  },
  {
   "cell_type": "code",
   "execution_count": 88,
   "metadata": {},
   "outputs": [],
   "source": [
    "# chromedriver的绝对路径\n",
    "driver_path = r'D:\\chromedriver.exe'\n",
    "# 初始化一个driver，并且指定chromedriver的路径\n",
    "driver = webdriver.Chrome(executable_path=driver_path)\n",
    "\n",
    "\n",
    "#设置无头 \n",
    "# chrome_options = Options()\n",
    "# chrome_options.add_argument('--headless')\n",
    "# driver = webdriver.Chrome(executable_path=driver_path, options=chrome_options)\n",
    "\n",
    "\n",
    "\n",
    "# 请求网页\n",
    "driver.get(\"http://www.tianqi.com/tianqi/shenzhen/201906.html\")  #佛山6月份数据\n",
    "# 通过page_source获取网页源代码\n",
    "# print(driver.page_source)\n",
    "# 通过page_source获取网页源代码\n",
    "# print(driver.page_source)\n",
    "source = driver.page_source\n",
    "html = etree.HTML(source)\n",
    "days = html.xpath(\"//li[@class='inmonth']\")\n",
    "city = \"广州\"\n",
    "year = str(datetime.now().year)"
   ]
  },
  {
   "cell_type": "code",
   "execution_count": 89,
   "metadata": {},
   "outputs": [],
   "source": [
    "Infos = []\n",
    "for day in days:\n",
    "    Info = {}\n",
    "    date = day.xpath(\"./a/div/span[1]/text()\")\n",
    "    try:\n",
    "        date = date[0]\n",
    "        date = date\n",
    "        date = datetime(2019, 6, int(date)).strftime(\"%Y%m%d\")\n",
    "    except:\n",
    "        date = None\n",
    "        \n",
    "    condition = day.xpath(\"./a/div[3]/text()\")\n",
    "    try:\n",
    "        condition = condition[0]\n",
    "    except:\n",
    "        condition = None\n",
    "    temp = str(day.xpath(\"./a/div[4]/text()\"))\n",
    "    temp = re.search(\"(\\d+)~(\\d+)\", temp)\n",
    "    try:\n",
    "        min = temp.group(1)\n",
    "        max = temp.group(2)\n",
    "        max = int(max)\n",
    "        min = int(min)\n",
    "    except:\n",
    "        min = None\n",
    "        max = None\n",
    "    Info['city'] = 'sz'\n",
    "    Info['max'] = max\n",
    "    Info['min'] = min\n",
    "    Info['condition'] = condition\n",
    "    Info['date'] = date\n",
    "    Infos.append(Info)"
   ]
  },
  {
   "cell_type": "code",
   "execution_count": 90,
   "metadata": {},
   "outputs": [],
   "source": [
    "driver.get(\"http://www.tianqi.com/tianqi/shenzhen/201907.html\")  #深圳7月份数据\n",
    "driver.switch_to.window(driver.window_handles[0])\n",
    "source = driver.page_source\n",
    "html = etree.HTML(source)"
   ]
  },
  {
   "cell_type": "code",
   "execution_count": 91,
   "metadata": {},
   "outputs": [],
   "source": [
    "for day in days:\n",
    "    Info = {}\n",
    "    date = day.xpath(\"./a/div/span[1]/text()\")\n",
    "    try:\n",
    "        date = date[0]\n",
    "        date = date\n",
    "        date = datetime(2019, 7, int(date)).strftime(\"%Y%m%d\")\n",
    "    except:\n",
    "        date = None\n",
    "        \n",
    "    condition = day.xpath(\"./a/div[3]/text()\")\n",
    "    try:\n",
    "        condition = condition[0]\n",
    "    except:\n",
    "        condition = None\n",
    "    temp = str(day.xpath(\"./a/div[4]/text()\"))\n",
    "    temp = re.search(\"(\\d+)~(\\d+)\", temp)\n",
    "    try:\n",
    "        min = temp.group(1)\n",
    "        max = temp.group(2)\n",
    "        max = int(max)\n",
    "        min = int(min)\n",
    "    except:\n",
    "        min = None\n",
    "        max = None\n",
    "    Info['city'] = 'sz'\n",
    "    Info['max'] = max\n",
    "    Info['min'] = min\n",
    "    Info['condition'] = condition\n",
    "    Info['date'] = date\n",
    "    Infos.append(Info)"
   ]
  },
  {
   "cell_type": "code",
   "execution_count": 92,
   "metadata": {},
   "outputs": [],
   "source": [
    "df = pd.DataFrame(Infos)\n",
    "df.to_excel(\"深圳.xls\")"
   ]
  }
 ],
 "metadata": {
  "kernelspec": {
   "display_name": "Python 3",
   "language": "python",
   "name": "python3"
  },
  "language_info": {
   "codemirror_mode": {
    "name": "ipython",
    "version": 3
   },
   "file_extension": ".py",
   "mimetype": "text/x-python",
   "name": "python",
   "nbconvert_exporter": "python",
   "pygments_lexer": "ipython3",
   "version": "3.7.3"
  },
  "toc": {
   "base_numbering": 1,
   "nav_menu": {},
   "number_sections": true,
   "sideBar": true,
   "skip_h1_title": false,
   "title_cell": "Table of Contents",
   "title_sidebar": "Contents",
   "toc_cell": false,
   "toc_position": {},
   "toc_section_display": true,
   "toc_window_display": true
  },
  "varInspector": {
   "cols": {
    "lenName": 16,
    "lenType": 16,
    "lenVar": 40
   },
   "kernels_config": {
    "python": {
     "delete_cmd_postfix": "",
     "delete_cmd_prefix": "del ",
     "library": "var_list.py",
     "varRefreshCmd": "print(var_dic_list())"
    },
    "r": {
     "delete_cmd_postfix": ") ",
     "delete_cmd_prefix": "rm(",
     "library": "var_list.r",
     "varRefreshCmd": "cat(var_dic_list()) "
    }
   },
   "types_to_exclude": [
    "module",
    "function",
    "builtin_function_or_method",
    "instance",
    "_Feature"
   ],
   "window_display": false
  }
 },
 "nbformat": 4,
 "nbformat_minor": 2
}
